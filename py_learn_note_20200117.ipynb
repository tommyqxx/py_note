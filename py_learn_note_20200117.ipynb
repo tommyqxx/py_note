{
  "nbformat": 4,
  "nbformat_minor": 0,
  "metadata": {
    "colab": {
      "name": "py_learn_note_20200117.ipynb",
      "provenance": [],
      "authorship_tag": "ABX9TyOq/7m8edcA637M4Q44n9qv",
      "include_colab_link": true
    },
    "kernelspec": {
      "name": "python3",
      "display_name": "Python 3"
    }
  },
  "cells": [
    {
      "cell_type": "markdown",
      "metadata": {
        "id": "view-in-github",
        "colab_type": "text"
      },
      "source": [
        "<a href=\"https://colab.research.google.com/github/tommyqxx/py_note/blob/master/py_learn_note_20200117.ipynb\" target=\"_parent\"><img src=\"https://colab.research.google.com/assets/colab-badge.svg\" alt=\"Open In Colab\"/></a>"
      ]
    },
    {
      "cell_type": "code",
      "metadata": {
        "id": "lhK9uqzuCEi7",
        "colab_type": "code",
        "colab": {}
      },
      "source": [
        ""
      ],
      "execution_count": 0,
      "outputs": []
    },
    {
      "cell_type": "markdown",
      "metadata": {
        "id": "HgGgkS37CH3K",
        "colab_type": "text"
      },
      "source": [
        "python的注释\n",
        "\n",
        "\n",
        "> ctrl + / : 单行注释快捷键\n",
        "\n",
        "\n",
        "> \"\"\" \"\"\": 多行注释\n",
        "\n",
        "\n",
        "> ''' ''': 单行注释\n",
        "\n",
        "\n",
        "\n",
        "\n",
        "\n"
      ]
    },
    {
      "cell_type": "code",
      "metadata": {
        "id": "DJVXlIUGCXSO",
        "colab_type": "code",
        "colab": {}
      },
      "source": [
        "test code\n",
        "# testcode\n",
        "'''\n",
        "testcode1\n",
        "testcode2\n",
        "'''\n",
        "testcode\n",
        "\"\"\"testcode1\n",
        "testcode2\n",
        "\"\"\""
      ],
      "execution_count": 0,
      "outputs": []
    },
    {
      "cell_type": "code",
      "metadata": {
        "id": "262DgdMm9LdI",
        "colab_type": "code",
        "colab": {
          "base_uri": "https://localhost:8080/",
          "height": 51
        },
        "outputId": "6a2e2ad9-f154-457d-e377-9fb01f7ebb1e"
      },
      "source": [
        "#定义类\n",
        "class Teacher:\n",
        "    #方法（行为，可以干什么）\n",
        "    def show(self):\n",
        "        # print('去玩')\n",
        "        # print('My name is: %s'%'Bob')\n",
        "         print('My name is :%s'% self.name)\n",
        "\n",
        "    def eat(self):\n",
        "        print('吃饭')\n",
        "\n",
        "\n",
        "#创建对象（实例）\n",
        "panda1=Teacher()\n",
        "#对象调用方法\n",
        "panda1.name='范闲'\n",
        "panda1.show()   #调用方法的时候，panda1被传入方法中的self\n",
        "# panda1.eat()\n",
        "'''\n",
        "#添加属性（名字，年龄）(赋值)\n",
        "panda1.name='范闲'\n",
        "panda1.age=20\n",
        "\n",
        "#获取属性\n",
        "print(panda1.name,panda1.age)\n",
        "'''"
      ],
      "execution_count": 12,
      "outputs": [
        {
          "output_type": "stream",
          "text": [
            "My name is :范闲\n"
          ],
          "name": "stdout"
        },
        {
          "output_type": "execute_result",
          "data": {
            "text/plain": [
              "\"\\n#添加属性（名字，年龄）(赋值)\\npanda1.name='范闲'\\npanda1.age=20\\n\\n#获取属性\\nprint(panda1.name,panda1.age)\\n\""
            ]
          },
          "metadata": {
            "tags": []
          },
          "execution_count": 12
        }
      ]
    },
    {
      "cell_type": "code",
      "metadata": {
        "id": "cGos0rNF4jOV",
        "colab_type": "code",
        "colab": {
          "base_uri": "https://localhost:8080/",
          "height": 34
        },
        "outputId": "f24a9e1e-e59a-43d6-e735-e0fc30aad5f8"
      },
      "source": [
        "a=1\n",
        "if a==1: \n",
        "  print(a)"
      ],
      "execution_count": 2,
      "outputs": [
        {
          "output_type": "stream",
          "text": [
            "1\n"
          ],
          "name": "stdout"
        }
      ]
    }
  ]
}