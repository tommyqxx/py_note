{
  "nbformat": 4,
  "nbformat_minor": 0,
  "metadata": {
    "colab": {
      "name": "2020012_note.ipynb",
      "provenance": [],
      "authorship_tag": "ABX9TyNxCQbJWtNQX5bWzYtzwpKB",
      "include_colab_link": true
    },
    "kernelspec": {
      "name": "python3",
      "display_name": "Python 3"
    }
  },
  "cells": [
    {
      "cell_type": "markdown",
      "metadata": {
        "id": "view-in-github",
        "colab_type": "text"
      },
      "source": [
        "<a href=\"https://colab.research.google.com/github/tommyqxx/py_note/blob/master/2020012_note.ipynb\" target=\"_parent\"><img src=\"https://colab.research.google.com/assets/colab-badge.svg\" alt=\"Open In Colab\"/></a>"
      ]
    },
    {
      "cell_type": "code",
      "metadata": {
        "id": "mAeYB833HZ86",
        "colab_type": "code",
        "colab": {
          "base_uri": "https://localhost:8080/",
          "height": 51
        },
        "outputId": "e4c25234-b709-4c0f-ef9a-101a4797ce3e"
      },
      "source": [
        "#异常\n",
        "try:\n",
        "  print(a)\n",
        "  print('认为会出现的代码')\n",
        "except NameError:\n",
        "  print('有错')\n",
        "\n",
        "print(1)\n",
        "\n",
        "\n",
        "# try:\n",
        "  "
      ],
      "execution_count": 5,
      "outputs": [
        {
          "output_type": "stream",
          "text": [
            "有错\n",
            "1\n"
          ],
          "name": "stdout"
        }
      ]
    },
    {
      "cell_type": "code",
      "metadata": {
        "id": "S5URUEpwKP7J",
        "colab_type": "code",
        "colab": {
          "base_uri": "https://localhost:8080/",
          "height": 68
        },
        "outputId": "e86e6f10-9aab-446c-f07e-15a5d050b28f"
      },
      "source": [
        "#异常\n",
        "file_path ='./1.txt'\n",
        "\n",
        "try:\n",
        "  # open('1.txt')\n",
        "  open(file_path)\n",
        "  print(a)\n",
        "  print('认为会出现的代码')\n",
        "except Exception as e:\n",
        "  print('有错')\n",
        "  close()\n",
        "  print(e)\n",
        "\n",
        "print(1)\n",
        "\n"
      ],
      "execution_count": 8,
      "outputs": [
        {
          "output_type": "stream",
          "text": [
            "有错\n",
            "[Errno 2] No such file or directory: './1.txt'\n",
            "1\n"
          ],
          "name": "stdout"
        }
      ]
    },
    {
      "cell_type": "code",
      "metadata": {
        "id": "FmqDNbA2L9Dq",
        "colab_type": "code",
        "colab": {
          "base_uri": "https://localhost:8080/",
          "height": 85
        },
        "outputId": "d1db8b4e-fa6f-4154-b0e4-628eb16f9904"
      },
      "source": [
        "try:\n",
        "  print('try...')\n",
        "  # r=10/0\n",
        "  r=10/2\n",
        "  print('result:',r)\n",
        "# except ZeroDivisionError as e:\n",
        "except Exception as e:\n",
        "  print('except:',e)\n",
        "finally:\n",
        "  print('finally...')\n",
        "\n",
        "print('END')\n",
        "\n"
      ],
      "execution_count": 12,
      "outputs": [
        {
          "output_type": "stream",
          "text": [
            "try...\n",
            "result: 5.0\n",
            "finally...\n",
            "END\n"
          ],
          "name": "stdout"
        }
      ]
    },
    {
      "cell_type": "markdown",
      "metadata": {
        "id": "c8z73oAAPHbf",
        "colab_type": "text"
      },
      "source": [
        "\n",
        "try...except...finally\n",
        "捕获异常的错误处理机制\n",
        "使用场景\n",
        "文件打开的时候可以用\n",
        "\n",
        "使用函数的时候会出现各种意想不到的错误，使用except捕获错误\n",
        "\n",
        "https://docs.python.org/3/library/exceptions.html#exception-hierarchy\n",
        "\n",
        "\n",
        "\n",
        "\n"
      ]
    },
    {
      "cell_type": "code",
      "metadata": {
        "id": "3fHGZmKGRQKS",
        "colab_type": "code",
        "colab": {
          "base_uri": "https://localhost:8080/",
          "height": 51
        },
        "outputId": "9f6f9284-614e-4628-c65c-347e33927633"
      },
      "source": [
        "#跨越多层调用的异常捕获\n",
        "\n",
        "def foo(s):\n",
        "  return 10/int(s)\n",
        "\n",
        "def bar(s):\n",
        "  return foo(s)*3\n",
        "\n",
        "def main():\n",
        "  try:\n",
        "    bar('0')\n",
        "  except Exception as e:\n",
        "    print('Error:',e)\n",
        "  finally:\n",
        "    print('finally...')\n",
        "\n",
        "main()\n"
      ],
      "execution_count": 19,
      "outputs": [
        {
          "output_type": "stream",
          "text": [
            "Error: division by zero\n",
            "finally...\n"
          ],
          "name": "stdout"
        }
      ]
    },
    {
      "cell_type": "code",
      "metadata": {
        "id": "KyRy-OtJdhCk",
        "colab_type": "code",
        "colab": {
          "base_uri": "https://localhost:8080/",
          "height": 301
        },
        "outputId": "e5f428bc-fbba-47e3-b5d3-da4716759810"
      },
      "source": [
        "# 导入自定义模块\n",
        "# 同一个文件夹路径下\n",
        "# 使用文件的名字导入\n",
        "import first_module"
      ],
      "execution_count": 1,
      "outputs": [
        {
          "output_type": "error",
          "ename": "ModuleNotFoundError",
          "evalue": "ignored",
          "traceback": [
            "\u001b[0;31m---------------------------------------------------------------------------\u001b[0m",
            "\u001b[0;31mModuleNotFoundError\u001b[0m                       Traceback (most recent call last)",
            "\u001b[0;32m<ipython-input-1-3b069150257a>\u001b[0m in \u001b[0;36m<module>\u001b[0;34m()\u001b[0m\n\u001b[0;32m----> 1\u001b[0;31m \u001b[0;32mimport\u001b[0m \u001b[0mfirst_module\u001b[0m\u001b[0;34m\u001b[0m\u001b[0;34m\u001b[0m\u001b[0m\n\u001b[0m",
            "\u001b[0;31mModuleNotFoundError\u001b[0m: No module named 'first_module'",
            "",
            "\u001b[0;31m---------------------------------------------------------------------------\u001b[0;32m\nNOTE: If your import is failing due to a missing package, you can\nmanually install dependencies using either !pip or !apt.\n\nTo view examples of installing some common dependencies, click the\n\"Open Examples\" button below.\n\u001b[0;31m---------------------------------------------------------------------------\u001b[0m\n"
          ]
        }
      ]
    }
  ]
}