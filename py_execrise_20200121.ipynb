{
  "nbformat": 4,
  "nbformat_minor": 0,
  "metadata": {
    "colab": {
      "name": "py_execrise_20200121.ipynb",
      "provenance": [],
      "authorship_tag": "ABX9TyMbhIqbH1QuRUpDJOoriBuy",
      "include_colab_link": true
    },
    "kernelspec": {
      "name": "python3",
      "display_name": "Python 3"
    }
  },
  "cells": [
    {
      "cell_type": "markdown",
      "metadata": {
        "id": "view-in-github",
        "colab_type": "text"
      },
      "source": [
        "<a href=\"https://colab.research.google.com/github/tommyqxx/py_note/blob/master/py_execrise_20200121.ipynb\" target=\"_parent\"><img src=\"https://colab.research.google.com/assets/colab-badge.svg\" alt=\"Open In Colab\"/></a>"
      ]
    },
    {
      "cell_type": "code",
      "metadata": {
        "id": "k1m_YiUOnOFa",
        "colab_type": "code",
        "colab": {}
      },
      "source": [
        ""
      ],
      "execution_count": 0,
      "outputs": []
    },
    {
      "cell_type": "markdown",
      "metadata": {
        "id": "TcxQBvAynSrp",
        "colab_type": "text"
      },
      "source": [
        "1、\t给定一个非负整数n，生成杨辉三角的前 n 行。（可以百度杨辉三角是什么）\n",
        "例：输入: 10  实现：[[1], [1, 1], [1, 2, 1], [1, 3, 3, 1], [1, 4, 6, 4, 1]]    \n"
      ]
    },
    {
      "cell_type": "code",
      "metadata": {
        "id": "9qtA0RaunUuO",
        "colab_type": "code",
        "colab": {
          "base_uri": "https://localhost:8080/",
          "height": 137
        },
        "outputId": "21320438-1a3b-4fc8-a930-ad0d7ea7c7c1"
      },
      "source": [
        "n = int(input(\"请输入行数：\"))\n",
        "N = [1]\n",
        "for i in range(n):\n",
        "  print(\"N: \",N)\n",
        "  N.append(0)\n",
        "  # print(\"N.append(0): \",N)\n",
        "  N=[N[k]+N[k-1] for k in range(i+2)]  \n",
        "\n"
      ],
      "execution_count": 9,
      "outputs": [
        {
          "output_type": "stream",
          "text": [
            "请输入行数：6\n",
            "N:  [1]\n",
            "N:  [1, 1]\n",
            "N:  [1, 2, 1]\n",
            "N:  [1, 3, 3, 1]\n",
            "N:  [1, 4, 6, 4, 1]\n",
            "N:  [1, 5, 10, 10, 5, 1]\n"
          ],
          "name": "stdout"
        }
      ]
    },
    {
      "cell_type": "markdown",
      "metadata": {
        "id": "fJofjpBZTD6C",
        "colab_type": "text"
      },
      "source": [
        "2、\t编写一个函数，以字符串作为输入，反转该字符串中的元音字母。\n",
        "注：元音字母包括（a,e,i,o,u）\n",
        "例：输入: \"hello\"      输出: \"holle\"\n"
      ]
    },
    {
      "cell_type": "code",
      "metadata": {
        "id": "PvMY8Oj3CZRg",
        "colab_type": "code",
        "colab": {
          "base_uri": "https://localhost:8080/",
          "height": 34
        },
        "outputId": "7aa7a24a-0248-439c-abdd-7ce052861321"
      },
      "source": [
        "class StringTool(object):\n",
        "  string1=''\n",
        "  def AWash(self,string1):\n",
        "      lst1=list(string1)  #将输入的字符串转换成list列表\n",
        "      lst2=['a','e','i','o','u']\n",
        "      n=len(lst1)-1 #字符串索引长度\n",
        "      for i in range(n):\n",
        "        if i>=n:\n",
        "          break\n",
        "        if lst1[i] in lst2:\n",
        "          while n>0:\n",
        "            if lst1[n] in lst2:\n",
        "              lst1[n],lst1[i]=lst1[i],lst1[n] #调换顺序\n",
        "              n-=1\n",
        "              break\n",
        "            else:\n",
        "              n-=1\n",
        "      return lst1\n",
        "\n",
        "test=StringTool()\n",
        "test.string1='aeiou'\n",
        "print(test.AWash(test.string1))\n",
        "# test.AWash('banana')\n",
        "\n",
        "\n"
      ],
      "execution_count": 19,
      "outputs": [
        {
          "output_type": "stream",
          "text": [
            "['u', 'o', 'i', 'e', 'a']\n"
          ],
          "name": "stdout"
        }
      ]
    },
    {
      "cell_type": "code",
      "metadata": {
        "id": "JSSIIugWqRZi",
        "colab_type": "code",
        "colab": {
          "base_uri": "https://localhost:8080/",
          "height": 51
        },
        "outputId": "9e76e494-a07c-464b-889c-2efb4ef72403"
      },
      "source": [
        "\n",
        "string1=input()\n",
        "lst1=list(string1)\n",
        "lst2=['a','e','i','o','u']\n",
        "n=len(lst1)-1 #索引长度\n",
        "for i in range(n):\n",
        "  if i>=n:\n",
        "    break\n",
        "  if lst1[i] in lst2:\n",
        "    while n>0:\n",
        "      if lst1[n] in lst2:\n",
        "        lst1[n],lst1[i]=lst1[i],lst1[n]\n",
        "        n-=1\n",
        "        break\n",
        "      else:\n",
        "        n-=1\n",
        "  result = \"\".join(lst1)\n",
        "\n",
        "print(result)                          \n",
        "\n",
        "\n",
        "# test='banana'th\n",
        "# AWash(test)\n",
        "\n",
        "\n",
        "# test=StringTool()\n",
        "# test.string1='banana'\n",
        "# print(test.AWash(test.string1))\n",
        "# # test.AWash('banana')\n",
        "\n"
      ],
      "execution_count": 34,
      "outputs": [
        {
          "output_type": "stream",
          "text": [
            "thereisanapple\n",
            "theraasinepple\n"
          ],
          "name": "stdout"
        }
      ]
    },
    {
      "cell_type": "code",
      "metadata": {
        "id": "ORhYkd61KNiO",
        "colab_type": "code",
        "colab": {
          "base_uri": "https://localhost:8080/",
          "height": 34
        },
        "outputId": "4c34faca-3fe3-47bd-bec2-3c89ac65490b"
      },
      "source": [
        "# n1=[1,1,1,1,1]\n",
        "# k=0\n",
        "n1=[1,1,1]\n",
        "n2=[n1[k]+n1[k-1] for k in range(0)]\n",
        "# print(\"k:\",k)\n",
        "# # print(\"i:\",i)\n",
        "# print(\"n1[k]:\",n1[k])\n",
        "# print(\"n1[k-1]:\",n1[k-1])\n",
        "# print(\"n1[-1]:\",n1[-1])\n",
        "print(\"n2:\",n2)  "
      ],
      "execution_count": 6,
      "outputs": [
        {
          "output_type": "stream",
          "text": [
            "n2: []\n"
          ],
          "name": "stdout"
        }
      ]
    },
    {
      "cell_type": "code",
      "metadata": {
        "id": "U83VulcnMB-w",
        "colab_type": "code",
        "colab": {
          "base_uri": "https://localhost:8080/",
          "height": 68
        },
        "outputId": "4753cb08-45d8-45b0-b1dd-90c264377477"
      },
      "source": [
        "\n",
        "for k in range(3):\n",
        "  print(k)\n",
        "    # print(i, end=', ')"
      ],
      "execution_count": 4,
      "outputs": [
        {
          "output_type": "stream",
          "text": [
            "0\n",
            "1\n",
            "2\n"
          ],
          "name": "stdout"
        }
      ]
    },
    {
      "cell_type": "code",
      "metadata": {
        "id": "01DzIcbpAgv-",
        "colab_type": "code",
        "colab": {}
      },
      "source": [
        ""
      ],
      "execution_count": 0,
      "outputs": []
    }
  ]
}