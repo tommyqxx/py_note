{
  "nbformat": 4,
  "nbformat_minor": 0,
  "metadata": {
    "kernelspec": {
      "display_name": "py37",
      "language": "python",
      "name": "py37"
    },
    "language_info": {
      "codemirror_mode": {
        "name": "ipython",
        "version": 3
      },
      "file_extension": ".py",
      "mimetype": "text/x-python",
      "name": "python",
      "nbconvert_exporter": "python",
      "pygments_lexer": "ipython3",
      "version": "3.7.3"
    },
    "colab": {
      "name": "day05.ipynb",
      "provenance": [],
      "include_colab_link": true
    }
  },
  "cells": [
    {
      "cell_type": "markdown",
      "metadata": {
        "id": "view-in-github",
        "colab_type": "text"
      },
      "source": [
        "<a href=\"https://colab.research.google.com/github/tommyqxx/py_note/blob/master/day05.ipynb\" target=\"_parent\"><img src=\"https://colab.research.google.com/assets/colab-badge.svg\" alt=\"Open In Colab\"/></a>"
      ]
    },
    {
      "cell_type": "markdown",
      "metadata": {
        "id": "c9enhGr3BjN3",
        "colab_type": "text"
      },
      "source": [
        "## 一、上节课复习"
      ]
    },
    {
      "cell_type": "code",
      "metadata": {
        "code_folding": [],
        "id": "pONOM6X1BjN5",
        "colab_type": "code",
        "colab": {}
      },
      "source": [
        "# 1. 函数的定义和调用\n",
        "# def 函数名(参数[可选]):\n",
        "#     函数内部执行语句\n",
        "def show(name):\n",
        "    print(name)\n",
        "show('zs')\n"
      ],
      "execution_count": 0,
      "outputs": []
    },
    {
      "cell_type": "code",
      "metadata": {
        "code_folding": [
          0
        ],
        "id": "-QgGNG-9BjOA",
        "colab_type": "code",
        "colab": {}
      },
      "source": [
        "# 2. 函数的文档说明\n",
        "# 计算数字和的函数\n",
        "def sum_num(num1, num2):\n",
        "    '''函数的功能\n",
        "    计算数字和的函数\n",
        "    :param num1: 第一个数字\n",
        "    :param num2: 第一个数字\n",
        "    :return: 返回值\n",
        "    '''\n",
        "    result = num1 + num2\n",
        "    return result\n",
        "\n",
        "value = sum_num(1, 2)\n",
        "print(value)\n",
        "\n",
        "# 三方公司查看自己公司接口方法或者函数的时候需要使用\n",
        "help(sum_num)"
      ],
      "execution_count": 0,
      "outputs": []
    },
    {
      "cell_type": "code",
      "metadata": {
        "code_folding": [],
        "id": "bgRQjsVGBjOF",
        "colab_type": "code",
        "colab": {}
      },
      "source": [
        "# 3. 函数的四种类型\n",
        "\n",
        "# 无参数无返回值的函数 \n",
        "def show():\n",
        "    print(\"大家好，今天的天气不好！！！\")\n",
        "\n",
        "# 函数的调用，函数名(参数)\n",
        "show()\n",
        "\n",
        "# 有参数无返回值的函数\n",
        "def show(name, age):\n",
        "    print(\"我叫:%s 年龄:%d\" % (name, age))\n",
        "\n",
        "show(\"张三丰\", 108)\n",
        "\n",
        "# 无参数有返回值的函数\n",
        "def return_value():\n",
        "    msg = \"好好学习，天天向上.\"\n",
        "    return msg\n",
        "\n",
        "# 调用有返回值函数并使用变量进行保存\n",
        "result = return_value()\n",
        "print(result)\n",
        "\n",
        "# 有参数有返回的函数\n",
        "def show_msg(name, age):\n",
        "    msg = \"我叫:%s 年龄:%d\" % (name, age)\n",
        "    return msg\n",
        "\n",
        "result = show_msg(\"李四\", 40)\n",
        "\n",
        "print(result)"
      ],
      "execution_count": 0,
      "outputs": []
    },
    {
      "cell_type": "code",
      "metadata": {
        "code_folding": [],
        "id": "YbIzz8SSBjON",
        "colab_type": "code",
        "colab": {}
      },
      "source": [
        "# 4. 函数的注意事项： \n",
        "# 1. 函数名不能相同， 2.变量名不能和函数名相同\n",
        "\n",
        "def show():\n",
        "    print(\"好累呀\")\n",
        "\n",
        "def show(msg):\n",
        "    print(msg)\n",
        "# 提示：如果定义了第二个函数名和第一个函数名相同，那么第一个函数不能使用\n",
        "\n",
        "# 定义变量名和函数名相同\n",
        "show = 10\n",
        "\n",
        "print(show)\n",
        "\n",
        "show(\"哈哈\")\n",
        "\n",
        "# 多个return\n",
        "def func(num1,num2):\n",
        "    result = num1 + num2\n",
        "    \n",
        "    return 1\n",
        "    return 2\n",
        "    if result == 3:\n",
        "    \treturn result\n",
        "    else:\n",
        "    \treturn 'no'\n",
        "num= func(1,2)\n",
        "print(num)"
      ],
      "execution_count": 0,
      "outputs": []
    },
    {
      "cell_type": "code",
      "metadata": {
        "code_folding": [
          0
        ],
        "id": "Ope6lyY8BjOQ",
        "colab_type": "code",
        "colab": {}
      },
      "source": [
        "# 5. 调用函数传参的方式有： \n",
        "# 1. 使用位置参数(必选)方式参数 2. 使用关键字参数方式传参\n",
        "\n",
        "def show(name, age):\n",
        "    print(name, age)\n",
        "\n",
        "# positional argument， 丢失调用时候的一个位置参数\n",
        "# show(\"赵六\")\n",
        "\n",
        "# 使用位置参数方式传参\n",
        "show(\"赵六\", 20)\n",
        "\n",
        "# 使用位置参数方式传参必须按照函数参数的顺序去传参不然会乱掉\n",
        "show(20, \"赵六\")\n",
        "\n",
        "# 使用关键字方式传参，可以不按照函数参数的顺序传参\n",
        "show(age=18, name=\"冯七\")\n",
        "\n",
        "# 前面使用位置参数，后面使用关键字\n",
        "show(\"赵六\", age=20)\n",
        "# 提示：如果前面使用关键字传参后面必须是关键字方式传参\n",
        "show(name=\"王三\", age=19)\n",
        "show(age=20,'zs' )"
      ],
      "execution_count": 0,
      "outputs": []
    },
    {
      "cell_type": "code",
      "metadata": {
        "code_folding": [
          0
        ],
        "id": "dDRSgmTaBjOV",
        "colab_type": "code",
        "colab": {}
      },
      "source": [
        "# 6. 缺省参数\n",
        "# 在函数定义的时候参数就有值，那么像这样的参数叫做缺省参数\n",
        "# 提示： 如果给缺省参数传值就是传入的值，如果不给缺省参数传值那么就使用默认值(缺省值)\n",
        "# num1 叫位置参数或者必选参数\n",
        "\n",
        "def sum_num(num1, num2=1):\n",
        "    result = num1 + num2\n",
        "    return result\n",
        "\n",
        "# 没有给函数的第二个参数传值，那么使用默认值（缺省值）\n",
        "value = sum_num(1, 5)\n",
        "\n",
        "print(value)\n",
        "\n",
        "#注意，如果函数第一个形势参数，设置成了缺省参数，后面都得是\n",
        "def show(age=1,name=''):\n",
        "    print(name, age)"
      ],
      "execution_count": 0,
      "outputs": []
    },
    {
      "cell_type": "code",
      "metadata": {
        "code_folding": [
          0
        ],
        "id": "bLKvgkRvBjOZ",
        "colab_type": "code",
        "colab": {}
      },
      "source": [
        "# 7. 不定长参数\n",
        "# 函数的不定长参数： 1. 不定长位置形势参数 2. 不定长关键字形势参数\n",
        "\n",
        "# 不定长参数： 调用函数的时候不确定传入多少个参数，可能是0个或者多个参数\n",
        "\n",
        "# 定义函数的时候：1. 不定长位置形势参数 2. 不定长关键字形势参数\n",
        "\n",
        "\n",
        "# --------------不定长位置参数函数的定义及调用-------------\n",
        "\n",
        "# 定义一个不定长位置参数(*args)，约定俗成的，名字可以改\n",
        "def sum_num(*args):\n",
        "    # 提示： args： 会把调用函数传入的位置参数封装到一个元组里面，如果没有传入参数那么是一个空元组\n",
        "    print(args, type(args))\n",
        "    # 计算结果变量\n",
        "    result = 0\n",
        "    for value in args:\n",
        "        result += value\n",
        "    return result\n",
        "\n",
        "# 调用不定长位置参数的函数\n",
        "value = sum_num(1, 4, 5, 6)\n",
        "print(value)\n",
        "\n",
        "# 注意点： *args:表示定义的函数是不定长的位置参数，调用函数的时候只能使用位置参数传值，不能使用关键字\n",
        "result = sum_num(a=1, b=2, c=3)\n",
        "print(result)\n",
        "\n",
        "# --------------不定长关键字参数函数的定义及调用-------------\n",
        "\n",
        "# 定义不定长关键字参数函数， **kwargs: 表示的就是一个不定长关键字形势参数\n",
        "def show_msg(**kwargs):\n",
        "    # kwargs: 会把函数调用的关键字参数封装到字典里面\n",
        "    print(kwargs, type(kwargs))\n",
        "    for key, value in kwargs.items():\n",
        "        print(key, value)\n",
        "\n",
        "    \n",
        "# 调用的不定长关键字参数的函数\n",
        "show_msg(a=1, b=2)\n",
        "\n",
        "# 不能使用位置参数给不定长关键字函数传参\n",
        "# show_msg(1, 2)\n",
        "\n",
        "# 函数嵌套的时候如何将参数作为其他函数参数\n",
        "def show_msg(**kwargs):\n",
        "   \n",
        "    print(kwargs, type(kwargs))\n",
        "    func(**kwargs)\n",
        "\n",
        "show_msg(a=1, b=2)\n",
        "\n",
        "def func(**kwargs):\n",
        "    # 对字典进行拆包\n",
        "    for key, value in kwargs.items():\n",
        "        print(key, value)"
      ],
      "execution_count": 0,
      "outputs": []
    },
    {
      "cell_type": "code",
      "metadata": {
        "code_folding": [],
        "id": "zBvAMUA8BjOc",
        "colab_type": "code",
        "colab": {}
      },
      "source": [
        "# 8. 参数组合\n",
        "# 下面的定义可以使用缺省参数（最终位置的确定）\n",
        "def show(name, *args, age=18, **kwargs):\n",
        "    print(name, age, args, kwargs)\n",
        "show('zs',1,2,3,[456],{'a':1},age=19,sex='man')"
      ],
      "execution_count": 0,
      "outputs": []
    },
    {
      "cell_type": "code",
      "metadata": {
        "code_folding": [
          0
        ],
        "id": "r0MOng-fBjOg",
        "colab_type": "code",
        "colab": {}
      },
      "source": [
        "# 9. 递归函数\n",
        "def calc_num(num):\n",
        "    # 当计算1的阶乘的时候不需要往下传递需要返回结果\n",
        "    if num == 1: # 必须要设置结束递归的条件及返回值\n",
        "        return 1\n",
        "    else:\n",
        "        return num * calc_num(num-1)\n",
        "\n",
        "result = calc_num(5)\n",
        "print(result)"
      ],
      "execution_count": 0,
      "outputs": []
    },
    {
      "cell_type": "code",
      "metadata": {
        "code_folding": [
          0
        ],
        "id": "zgvsNxqrBjOi",
        "colab_type": "code",
        "colab": {}
      },
      "source": [
        "# 10. 全局变量和局部变量\n",
        "# 局部变量： 在函数内定义的变量叫做局部变量，局部变量只能在函数内使用，不能在函数外使用\n",
        "def show():\n",
        "    # 局部变量\n",
        "    score = 100\n",
        "    print(\"分数:\", score)\n",
        "    \n",
        "# 全局变量：在函数外定义的变量叫做全局变量，全局变量可以在不同函数内使用。\n",
        "# 特点： 全局变量可以在不同函数内共享全局变量的数据\n",
        "# 全局变量（尽量用大写，或者加g_)\n",
        "score = 100\n",
        "def show():\n",
        "    # 在这里不是对全局变量进行了修改而是定义了一个局部变量，\n",
        "    # 只不过局部变量的名字和全局变量的名字相同\n",
        "    # score = 99\n",
        "\n",
        "    # 修改全局变量\n",
        "    global score  # 表示要对全局变量score进行数据的修改\n",
        "    score = 99\n",
        "    print(\"分数:\", score)\n",
        "\n",
        "show()\n",
        "\n"
      ],
      "execution_count": 0,
      "outputs": []
    },
    {
      "cell_type": "code",
      "metadata": {
        "code_folding": [
          0
        ],
        "id": "V3pnav-XBjOn",
        "colab_type": "code",
        "colab": {}
      },
      "source": [
        "# 11. nonlocal\n",
        "'''\n",
        "nonlocal关键字修饰变量后标识该变量是上一级函数中的局部变量，\n",
        "如果上一级函数中不存在该局部变量，nonlocal位置会发生错误。\n",
        "\n",
        "global关键字可以用在任何地方，即使之前未定义该变量，global修饰后也可以直接使用，\n",
        "而nonlocal关键字只能用于嵌套函数中，并且外层函数中定义了相应的局部变量\n",
        "'''\n",
        "name = \"全局变量\"\n",
        "def s1():\n",
        "    name = \"s1\"\n",
        "    def ss1():\n",
        "        nonlocal name  # 把上一级变量name='s1'改为name='ss1'\n",
        "        name = \"ss1\"\n",
        "    ss1()\n",
        "    print(name)\n",
        "\n",
        "print(name)\n",
        "s1()"
      ],
      "execution_count": 0,
      "outputs": []
    },
    {
      "cell_type": "code",
      "metadata": {
        "id": "QLeYhhwmBjOr",
        "colab_type": "code",
        "colab": {}
      },
      "source": [
        ""
      ],
      "execution_count": 0,
      "outputs": []
    },
    {
      "cell_type": "markdown",
      "metadata": {
        "id": "tnYyr046BjO3",
        "colab_type": "text"
      },
      "source": [
        "## 二、本节内容"
      ]
    },
    {
      "cell_type": "code",
      "metadata": {
        "code_folding": [],
        "id": "w5ClN6fYBjO4",
        "colab_type": "code",
        "colab": {}
      },
      "source": [
        "# 1. 面向对象\n",
        "面向过程：（不符合复杂程度的程序开发）\n",
        "注重的是过程。当解决一个问题的时候，面向过程会把事情拆分成： 一个个函数和数据（函数的参数）。\n",
        "然后按照一定的顺序，执行完这些方法（每个方法看作一个个过程），等方法执行完了，事情就搞定了。\n",
        "\n",
        "面向对象：\n",
        "注重抽象对象。首先会考虑解决一个问题都需要哪些人，哪些工具，物品等。然后再创建人，工具，物品，让他们提供合适的方法。\n",
        "最后再根据我要解决问题的思路来让每个类调用它的接口。\n",
        "\n",
        "\n",
        "面向对象的语言特征：继承、封装、多态\n"
      ],
      "execution_count": 0,
      "outputs": []
    },
    {
      "cell_type": "code",
      "metadata": {
        "id": "GX61t6lQBjO8",
        "colab_type": "code",
        "colab": {}
      },
      "source": [
        "# 2. 类的定义\n",
        "# py3中可以加object也可以不加\n",
        "class Teacher: # 不建议\n",
        "    pass\n",
        "class Teacher(object): # 建议\n",
        "    pass\n",
        "\n"
      ],
      "execution_count": 0,
      "outputs": []
    },
    {
      "cell_type": "code",
      "metadata": {
        "code_folding": [],
        "id": "2Q2zsmepBjPA",
        "colab_type": "code",
        "colab": {}
      },
      "source": [
        "# 3. 对象的创建\n",
        "# 定义类\n",
        "class Teacher:\n",
        "    \n",
        "    # 方法(行为，可以干什么)\n",
        "    def show(self):\n",
        "        print('去按脚')\n",
        "    \n",
        "    def eat(self):\n",
        "        print('eat')\n",
        "    \n",
        "\n",
        "# 创建对象（实例）\n",
        "panda = Teacher()\n",
        "# 对象调用方法\n",
        "panda.show()\n",
        "panda.eat()\n",
        "\n",
        "# 添加属性（名字，年龄，性别）\n",
        "panda.name='帅哥'\n",
        "panda.age=18\n",
        "\n",
        "# 获取属性\n",
        "print(panda.name,panda.age)\n"
      ],
      "execution_count": 0,
      "outputs": []
    },
    {
      "cell_type": "code",
      "metadata": {
        "code_folding": [],
        "id": "eUQpUEMEBjPD",
        "colab_type": "code",
        "colab": {}
      },
      "source": [
        "# 4. 一个类多个对象\n",
        "class Teacher:\n",
        "    \n",
        "    # 方法(行为，可以干什么)\n",
        "    def show(self):\n",
        "        print('我的名字是:%s' % self.name)\n",
        "        \n",
        "\n",
        "# 一个类创建多个对象\n",
        "panda1 = Teacher()\n",
        "\n",
        "panda1.name= 'zs'\n",
        "panda1.age = 18\n",
        "panda1.show()\n",
        "\n",
        "panda2 = Teacher()\n",
        "panda2.name = 'ls'\n",
        "panda2.age = 20\n",
        "panda2.show()\n",
        "\n"
      ],
      "execution_count": 0,
      "outputs": []
    },
    {
      "cell_type": "code",
      "metadata": {
        "code_folding": [],
        "id": "ddgSo9wBBjPI",
        "colab_type": "code",
        "colab": {}
      },
      "source": [
        "# 5. 初始化方法\n",
        "class Teacher(object):\n",
        "    # 初始化方法(程序会自动的调用该方法)\n",
        "    def __init__(self,name,age):\n",
        "        # 添加默认属性\n",
        "        self.name = name\n",
        "        self.age = age\n",
        "#         print('__init__')\n",
        "        \n",
        "        \n",
        "    def show(self):\n",
        "        print('我的名字是:%s' % self.name)\n",
        "\n",
        "teacher = Teacher('zs',18) \n",
        "# teacher.name= '帅哥'\n",
        "teacher.sex = \"M\"\n",
        "print(teacher.name,teacher.sex)\n",
        "# # 动态的添加一个属性\n",
        "# teacher.sex='M'\n",
        "# print(teacher.sex)\n",
        "\n",
        "teacher2 = Teacher('ls',20) \n",
        "\n",
        "print(teacher2.name,teacher2.age)\n"
      ],
      "execution_count": 0,
      "outputs": []
    },
    {
      "cell_type": "code",
      "metadata": {
        "id": "ynCG0FEOBjPL",
        "colab_type": "code",
        "colab": {},
        "outputId": "0a0f3c1f-f0b9-452b-8d4e-51fe8ef8d003"
      },
      "source": [
        "# 6. 单继承和多继承  \n",
        "# class Person(object):\n",
        "    \n",
        "#     def __init__(self):\n",
        "#         self.name = 'zs'\n",
        "#         self.age = 20\n",
        "#         print('Person__init')\n",
        "    \n",
        "#     def show(self):\n",
        "#         print('show')\n",
        "\n",
        "        \n",
        "# class Teacher(Person):\n",
        "# #     def __init__(self):\n",
        "# #         self.name = 'ls'\n",
        "# #         print('Teacher__init')\n",
        "        \n",
        "#     def eat(self):\n",
        "#         print('Teacher')\n",
        "        \n",
        "#     def show(self):\n",
        "#         print('Teacher')\n",
        "    \n",
        "\n",
        "# te = Teacher()\n",
        "# print(te.name,te.age)\n",
        "# # 调用父类的方法\n",
        "# te.show()\n",
        "# te.eat()\n",
        "\n",
        "\n",
        "# 多继承\n",
        "class A(object):\n",
        "    def show(self):\n",
        "        print('A')\n",
        "    \n",
        "class B(object):\n",
        "    def show_info(self):\n",
        "        print('show_info')\n",
        "    \n",
        "    def show(self):\n",
        "        print('B')\n",
        "    \n",
        "\n",
        "class C(A,B):\n",
        "    pass\n",
        "c = C()\n",
        "c.show_info()\n",
        "c.show()\n",
        "\n",
        "# mro 规则 ，继承顺序\n",
        "print(C.mro())\n",
        "\n",
        "c.abc()\n"
      ],
      "execution_count": 0,
      "outputs": [
        {
          "output_type": "stream",
          "text": [
            "show_info\n",
            "A\n",
            "[<class '__main__.C'>, <class '__main__.A'>, <class '__main__.B'>, <class 'object'>]\n"
          ],
          "name": "stdout"
        },
        {
          "output_type": "error",
          "ename": "AttributeError",
          "evalue": "'C' object has no attribute 'abc'",
          "traceback": [
            "\u001b[0;31m---------------------------------------------------------------------------\u001b[0m",
            "\u001b[0;31mAttributeError\u001b[0m                            Traceback (most recent call last)",
            "\u001b[0;32m<ipython-input-18-20383036af5b>\u001b[0m in \u001b[0;36m<module>\u001b[0;34m\u001b[0m\n\u001b[1;32m     52\u001b[0m \u001b[0mprint\u001b[0m\u001b[0;34m(\u001b[0m\u001b[0mC\u001b[0m\u001b[0;34m.\u001b[0m\u001b[0mmro\u001b[0m\u001b[0;34m(\u001b[0m\u001b[0;34m)\u001b[0m\u001b[0;34m)\u001b[0m\u001b[0;34m\u001b[0m\u001b[0;34m\u001b[0m\u001b[0m\n\u001b[1;32m     53\u001b[0m \u001b[0;34m\u001b[0m\u001b[0m\n\u001b[0;32m---> 54\u001b[0;31m \u001b[0mc\u001b[0m\u001b[0;34m.\u001b[0m\u001b[0mabc\u001b[0m\u001b[0;34m(\u001b[0m\u001b[0;34m)\u001b[0m\u001b[0;34m\u001b[0m\u001b[0;34m\u001b[0m\u001b[0m\n\u001b[0m",
            "\u001b[0;31mAttributeError\u001b[0m: 'C' object has no attribute 'abc'"
          ]
        }
      ]
    },
    {
      "cell_type": "code",
      "metadata": {
        "code_folding": [],
        "id": "WMYVbUOHBjPQ",
        "colab_type": "code",
        "colab": {}
      },
      "source": [
        "# 7. 重写父类的方法\n",
        "class Person(object):\n",
        "    \n",
        "    def __init__(self):\n",
        "        self.name = 'zs'\n",
        "        self.age = 20\n",
        "        print('Person__init')\n",
        "    \n",
        "    def show(self):\n",
        "        print('show')\n",
        "\n",
        "        \n",
        "class Teacher(Person):\n",
        "#     def __init__(self):\n",
        "#         self.name = 'ls'\n",
        "#         print('Teacher__init')\n",
        "        \n",
        "    def eat(self):\n",
        "        print('Teacher')\n",
        "        \n",
        "    def show(self):\n",
        "        print('Teacher')\n",
        "    \n",
        "\n",
        "te = Teacher()\n",
        "print(te.name,te.age)\n",
        "# 调用父类的方法\n",
        "te.show()\n",
        "te.eat()"
      ],
      "execution_count": 0,
      "outputs": []
    },
    {
      "cell_type": "code",
      "metadata": {
        "code_folding": [],
        "id": "msBsqQgGBjPS",
        "colab_type": "code",
        "colab": {},
        "outputId": "b1689d13-f5c7-4dbc-dbe1-f98b6a6b2846"
      },
      "source": [
        "# 8. 私有属性和私有方法\n",
        "\n",
        "# class Person(object):\n",
        "#     def __init__(self,name,age):\n",
        "#         # 公共属性\n",
        "#         self.name = name\n",
        "#         # 私有属性（只能在类的内部使用,外界使用）\n",
        "# #         self.__age = age\n",
        "#         self.age = age\n",
        "#     def show(self):\n",
        "#         print(self.name,self.age)\n",
        "        \n",
        "# p = Person('zs',20)\n",
        "# # p.age = -30\n",
        "# # print(p.name,p.__age)\n",
        "# p.show()\n",
        "\n",
        "\n",
        "class Person(object):\n",
        "    def __init__(self,name):\n",
        "        # 公共属性\n",
        "        self.name = name\n",
        "\n",
        "        self.__age = 0\n",
        "    \n",
        "    # 调用设置年龄的值(反之外界乱传值)\n",
        "    def set_age(self,new_age):\n",
        "        if new_age >0 and new_age<=100:\n",
        "            self.__age = new_age\n",
        "        else:\n",
        "            self.__age = 0\n",
        "    # 返回私有值\n",
        "    def get_age(self):\n",
        "        return self.__age\n",
        "    \n",
        "    # 私用方法\n",
        "    def __show(self):\n",
        "        print('__show')\n",
        "        print('dafadf')\n",
        "        \n",
        "    def passwod(self,password):\n",
        "        self.__show(password)\n",
        "        \n",
        "p = Person('zs')\n",
        "p.set_age(-30)\n",
        "p.get_age()\n",
        "\n",
        "\n",
        "# 子类不能继承父类的私有属性和方法 \n",
        "class Teacher(Person):\n",
        "    pass\n",
        "\n",
        "# teacher = Teacher()\n",
        "# teacher\n",
        "\n"
      ],
      "execution_count": 0,
      "outputs": [
        {
          "output_type": "execute_result",
          "data": {
            "text/plain": [
              "0"
            ]
          },
          "metadata": {
            "tags": []
          },
          "execution_count": 30
        }
      ]
    },
    {
      "cell_type": "code",
      "metadata": {
        "code_folding": [],
        "id": "zWgiypGgBjPY",
        "colab_type": "code",
        "colab": {},
        "outputId": "8fefd16f-7648-470f-f9c5-792005313091"
      },
      "source": [
        "# 9. 类属性和类方法\n",
        "# Teacher类对象\n",
        "class Teacher(object):\n",
        "    # 类属性\n",
        "    t_type= 'python'\n",
        "    # 私有的类属性\n",
        "    __school ='数据分析'\n",
        "    \n",
        "    def __init__(self,name,age):\n",
        "        # 实例属性\n",
        "        self.name = 'zs'\n",
        "        self.age = 10\n",
        "    def eat(self):\n",
        "        print('实例方法')\n",
        "     \n",
        "    @classmethod\n",
        "    def show(cls):\n",
        "        print('类方法')\n",
        "    \n",
        "    @staticmethod\n",
        "    def show_info():\n",
        "        print('静态方法')\n",
        "# te 就是实例对象\n",
        "te = Teacher('zs',19)\n",
        "\n",
        "# 类属性可以用类名和对象去调用\n",
        "print(Teacher.t_type)\n",
        "print(te.t_type)\n",
        "# 类名是不可以调用实例属性和方法\n",
        "\n",
        "Teacher.show()\n",
        "\n"
      ],
      "execution_count": 0,
      "outputs": [
        {
          "output_type": "stream",
          "text": [
            "python\n",
            "python\n",
            "类方法\n"
          ],
          "name": "stdout"
        }
      ]
    },
    {
      "cell_type": "code",
      "metadata": {
        "code_folding": [],
        "id": "rK1Ib1oyBjPe",
        "colab_type": "code",
        "colab": {},
        "outputId": "a0d241d8-5d59-4b98-c392-76e1ccd5bf38"
      },
      "source": [
        "class Tool(object):\n",
        "    # 使用类型属性计数\n",
        "    num = 0\n",
        "    def __init__(self,tool_name):\n",
        "        self.name = tool_name\n",
        "        \n",
        "        Tool.num += 1\n",
        "        \n",
        "        \n",
        "tool = Tool('水桶')      \n",
        "tool = Tool('水桶') \n",
        "tool = Tool('水桶') \n",
        "tool = Tool('水桶')\n",
        "print(Tool.num)\n",
        "\n"
      ],
      "execution_count": 0,
      "outputs": [
        {
          "output_type": "stream",
          "text": [
            "0\n"
          ],
          "name": "stdout"
        }
      ]
    },
    {
      "cell_type": "code",
      "metadata": {
        "id": "gjE2QFzBBjPi",
        "colab_type": "code",
        "colab": {}
      },
      "source": [
        ""
      ],
      "execution_count": 0,
      "outputs": []
    }
  ]
}